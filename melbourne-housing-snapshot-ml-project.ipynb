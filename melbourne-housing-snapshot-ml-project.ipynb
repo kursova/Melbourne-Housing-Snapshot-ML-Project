{
 "cells": [
  {
   "cell_type": "code",
   "execution_count": 1,
   "id": "2a337b90",
   "metadata": {
    "_cell_guid": "b1076dfc-b9ad-4769-8c92-a6c4dae69d19",
    "_uuid": "8f2839f25d086af736a60e9eeb907d3b93b6e0e5",
    "execution": {
     "iopub.execute_input": "2024-08-11T09:14:55.914926Z",
     "iopub.status.busy": "2024-08-11T09:14:55.914555Z",
     "iopub.status.idle": "2024-08-11T09:14:56.814070Z",
     "shell.execute_reply": "2024-08-11T09:14:56.812735Z"
    },
    "papermill": {
     "duration": 0.907975,
     "end_time": "2024-08-11T09:14:56.817029",
     "exception": false,
     "start_time": "2024-08-11T09:14:55.909054",
     "status": "completed"
    },
    "tags": []
   },
   "outputs": [
    {
     "name": "stdout",
     "output_type": "stream",
     "text": [
      "/kaggle/input/melbourne-housing-snapshot/melb_data.csv\n"
     ]
    }
   ],
   "source": [
    "# This Python 3 environment comes with many helpful analytics libraries installed\n",
    "# It is defined by the kaggle/python Docker image: https://github.com/kaggle/docker-python\n",
    "# For example, here's several helpful packages to load\n",
    "\n",
    "import numpy as np # linear algebra\n",
    "import pandas as pd # data processing, CSV file I/O (e.g. pd.read_csv)\n",
    "\n",
    "# Input data files are available in the read-only \"../input/\" directory\n",
    "# For example, running this (by clicking run or pressing Shift+Enter) will list all files under the input directory\n",
    "\n",
    "import os\n",
    "for dirname, _, filenames in os.walk('/kaggle/input'):\n",
    "    for filename in filenames:\n",
    "        print(os.path.join(dirname, filename))\n",
    "\n",
    "# You can write up to 20GB to the current directory (/kaggle/working/) that gets preserved as output when you create a version using \"Save & Run All\" \n",
    "# You can also write temporary files to /kaggle/temp/, but they won't be saved outside of the current session"
   ]
  },
  {
   "cell_type": "code",
   "execution_count": 2,
   "id": "15ce661e",
   "metadata": {
    "execution": {
     "iopub.execute_input": "2024-08-11T09:14:56.826366Z",
     "iopub.status.busy": "2024-08-11T09:14:56.825347Z",
     "iopub.status.idle": "2024-08-11T09:14:56.961109Z",
     "shell.execute_reply": "2024-08-11T09:14:56.959938Z"
    },
    "papermill": {
     "duration": 0.142819,
     "end_time": "2024-08-11T09:14:56.963549",
     "exception": false,
     "start_time": "2024-08-11T09:14:56.820730",
     "status": "completed"
    },
    "tags": []
   },
   "outputs": [
    {
     "name": "stdout",
     "output_type": "stream",
     "text": [
      "Index(['Suburb', 'Address', 'Rooms', 'Type', 'Price', 'Method', 'SellerG',\n",
      "       'Date', 'Distance', 'Postcode', 'Bedroom2', 'Bathroom', 'Car',\n",
      "       'Landsize', 'BuildingArea', 'YearBuilt', 'CouncilArea', 'Lattitude',\n",
      "       'Longtitude', 'Regionname', 'Propertycount'],\n",
      "      dtype='object')\n",
      "<class 'pandas.core.frame.DataFrame'>\n",
      "RangeIndex: 13580 entries, 0 to 13579\n",
      "Data columns (total 21 columns):\n",
      " #   Column         Non-Null Count  Dtype  \n",
      "---  ------         --------------  -----  \n",
      " 0   Suburb         13580 non-null  object \n",
      " 1   Address        13580 non-null  object \n",
      " 2   Rooms          13580 non-null  int64  \n",
      " 3   Type           13580 non-null  object \n",
      " 4   Price          13580 non-null  float64\n",
      " 5   Method         13580 non-null  object \n",
      " 6   SellerG        13580 non-null  object \n",
      " 7   Date           13580 non-null  object \n",
      " 8   Distance       13580 non-null  float64\n",
      " 9   Postcode       13580 non-null  float64\n",
      " 10  Bedroom2       13580 non-null  float64\n",
      " 11  Bathroom       13580 non-null  float64\n",
      " 12  Car            13518 non-null  float64\n",
      " 13  Landsize       13580 non-null  float64\n",
      " 14  BuildingArea   7130 non-null   float64\n",
      " 15  YearBuilt      8205 non-null   float64\n",
      " 16  CouncilArea    12211 non-null  object \n",
      " 17  Lattitude      13580 non-null  float64\n",
      " 18  Longtitude     13580 non-null  float64\n",
      " 19  Regionname     13580 non-null  object \n",
      " 20  Propertycount  13580 non-null  float64\n",
      "dtypes: float64(12), int64(1), object(8)\n",
      "memory usage: 2.2+ MB\n",
      "None\n"
     ]
    }
   ],
   "source": [
    "melbourne_file_path = '../input/melbourne-housing-snapshot/melb_data.csv'\n",
    "melbourne_data = pd.read_csv(melbourne_file_path) \n",
    "print(melbourne_data.columns)\n",
    "print(melbourne_data.info())"
   ]
  },
  {
   "cell_type": "code",
   "execution_count": 3,
   "id": "5b94377c",
   "metadata": {
    "execution": {
     "iopub.execute_input": "2024-08-11T09:14:56.972818Z",
     "iopub.status.busy": "2024-08-11T09:14:56.972030Z",
     "iopub.status.idle": "2024-08-11T09:14:56.999762Z",
     "shell.execute_reply": "2024-08-11T09:14:56.998176Z"
    },
    "papermill": {
     "duration": 0.035275,
     "end_time": "2024-08-11T09:14:57.002505",
     "exception": false,
     "start_time": "2024-08-11T09:14:56.967230",
     "status": "completed"
    },
    "tags": []
   },
   "outputs": [
    {
     "name": "stdout",
     "output_type": "stream",
     "text": [
      "<class 'pandas.core.frame.DataFrame'>\n",
      "Index: 6196 entries, 1 to 12212\n",
      "Data columns (total 21 columns):\n",
      " #   Column         Non-Null Count  Dtype  \n",
      "---  ------         --------------  -----  \n",
      " 0   Suburb         6196 non-null   object \n",
      " 1   Address        6196 non-null   object \n",
      " 2   Rooms          6196 non-null   int64  \n",
      " 3   Type           6196 non-null   object \n",
      " 4   Price          6196 non-null   float64\n",
      " 5   Method         6196 non-null   object \n",
      " 6   SellerG        6196 non-null   object \n",
      " 7   Date           6196 non-null   object \n",
      " 8   Distance       6196 non-null   float64\n",
      " 9   Postcode       6196 non-null   float64\n",
      " 10  Bedroom2       6196 non-null   float64\n",
      " 11  Bathroom       6196 non-null   float64\n",
      " 12  Car            6196 non-null   float64\n",
      " 13  Landsize       6196 non-null   float64\n",
      " 14  BuildingArea   6196 non-null   float64\n",
      " 15  YearBuilt      6196 non-null   float64\n",
      " 16  CouncilArea    6196 non-null   object \n",
      " 17  Lattitude      6196 non-null   float64\n",
      " 18  Longtitude     6196 non-null   float64\n",
      " 19  Regionname     6196 non-null   object \n",
      " 20  Propertycount  6196 non-null   float64\n",
      "dtypes: float64(12), int64(1), object(8)\n",
      "memory usage: 1.0+ MB\n"
     ]
    }
   ],
   "source": [
    "melbourne_data = melbourne_data.dropna(axis=0)\n",
    "melbourne_data.info()"
   ]
  },
  {
   "cell_type": "code",
   "execution_count": 4,
   "id": "749944ca",
   "metadata": {
    "execution": {
     "iopub.execute_input": "2024-08-11T09:14:57.011460Z",
     "iopub.status.busy": "2024-08-11T09:14:57.011130Z",
     "iopub.status.idle": "2024-08-11T09:14:58.563987Z",
     "shell.execute_reply": "2024-08-11T09:14:58.562852Z"
    },
    "papermill": {
     "duration": 1.560271,
     "end_time": "2024-08-11T09:14:58.566508",
     "exception": false,
     "start_time": "2024-08-11T09:14:57.006237",
     "status": "completed"
    },
    "tags": []
   },
   "outputs": [
    {
     "data": {
      "text/plain": [
       "array([1035000., 1465000., 1600000., ...,  385000.,  560000., 2450000.])"
      ]
     },
     "execution_count": 4,
     "metadata": {},
     "output_type": "execute_result"
    }
   ],
   "source": [
    "y=melbourne_data.Price\n",
    "melbourne_features = ['Rooms', 'Bathroom', 'Landsize', 'Lattitude', 'Longtitude']\n",
    "X = melbourne_data[melbourne_features]\n",
    "\n",
    "from sklearn.tree import DecisionTreeRegressor\n",
    "\n",
    "melbourne_model = DecisionTreeRegressor(random_state=1)\n",
    "melbourne_model.fit(X, y)\n",
    "melbourne_model.predict(X)\n"
   ]
  },
  {
   "cell_type": "code",
   "execution_count": 5,
   "id": "9870f79e",
   "metadata": {
    "execution": {
     "iopub.execute_input": "2024-08-11T09:14:58.576383Z",
     "iopub.status.busy": "2024-08-11T09:14:58.575424Z",
     "iopub.status.idle": "2024-08-11T09:14:58.587300Z",
     "shell.execute_reply": "2024-08-11T09:14:58.586030Z"
    },
    "papermill": {
     "duration": 0.019447,
     "end_time": "2024-08-11T09:14:58.589768",
     "exception": false,
     "start_time": "2024-08-11T09:14:58.570321",
     "status": "completed"
    },
    "tags": []
   },
   "outputs": [
    {
     "data": {
      "text/plain": [
       "1115.7467183128902"
      ]
     },
     "execution_count": 5,
     "metadata": {},
     "output_type": "execute_result"
    }
   ],
   "source": [
    "from sklearn.metrics import mean_absolute_error\n",
    "\n",
    "predicted_home_prices = melbourne_model.predict(X)\n",
    "mean_absolute_error(y, predicted_home_prices)"
   ]
  },
  {
   "cell_type": "code",
   "execution_count": 6,
   "id": "52f1aba8",
   "metadata": {
    "execution": {
     "iopub.execute_input": "2024-08-11T09:14:58.599504Z",
     "iopub.status.busy": "2024-08-11T09:14:58.598780Z",
     "iopub.status.idle": "2024-08-11T09:14:58.635221Z",
     "shell.execute_reply": "2024-08-11T09:14:58.633744Z"
    },
    "papermill": {
     "duration": 0.044034,
     "end_time": "2024-08-11T09:14:58.637727",
     "exception": false,
     "start_time": "2024-08-11T09:14:58.593693",
     "status": "completed"
    },
    "tags": []
   },
   "outputs": [
    {
     "name": "stdout",
     "output_type": "stream",
     "text": [
      "273518.01872175594\n"
     ]
    }
   ],
   "source": [
    "from sklearn.model_selection import train_test_split\n",
    "train_X, val_X, train_y, val_y = train_test_split(X, y, random_state = 0)\n",
    "# Define model\n",
    "melbourne_model = DecisionTreeRegressor(random_state=1)\n",
    "# Fit model\n",
    "melbourne_model.fit(train_X, train_y)\n",
    "\n",
    "# get predicted prices on validation data\n",
    "val_predictions = melbourne_model.predict(val_X)\n",
    "print(mean_absolute_error(val_y, val_predictions))"
   ]
  },
  {
   "cell_type": "code",
   "execution_count": 7,
   "id": "afe3c3a4",
   "metadata": {
    "execution": {
     "iopub.execute_input": "2024-08-11T09:14:58.647798Z",
     "iopub.status.busy": "2024-08-11T09:14:58.647387Z",
     "iopub.status.idle": "2024-08-11T09:14:58.725345Z",
     "shell.execute_reply": "2024-08-11T09:14:58.724007Z"
    },
    "papermill": {
     "duration": 0.086129,
     "end_time": "2024-08-11T09:14:58.727879",
     "exception": false,
     "start_time": "2024-08-11T09:14:58.641750",
     "status": "completed"
    },
    "tags": []
   },
   "outputs": [
    {
     "name": "stdout",
     "output_type": "stream",
     "text": [
      "Max leaf nodes: 5  \t\t Mean Absolute Error:  385696\n",
      "Max leaf nodes: 50  \t\t Mean Absolute Error:  279794\n",
      "Max leaf nodes: 500  \t\t Mean Absolute Error:  261718\n",
      "Max leaf nodes: 5000  \t\t Mean Absolute Error:  271320\n"
     ]
    }
   ],
   "source": [
    "#finding overfitting and underfitting \n",
    "def get_mae(max_leaf_nodes, train_X, val_X, train_y, val_y):\n",
    "    model = DecisionTreeRegressor(max_leaf_nodes=max_leaf_nodes, random_state=0)\n",
    "    model.fit(train_X, train_y)\n",
    "    preds_val = model.predict(val_X)\n",
    "    mae = mean_absolute_error(val_y, preds_val)\n",
    "    return(mae)\n",
    "\n",
    "\n",
    "# compare MAE with differing values of max_leaf_nodes\n",
    "for max_leaf_nodes in [5, 50, 500, 5000]:\n",
    "    my_mae = get_mae(max_leaf_nodes, train_X, val_X, train_y, val_y)\n",
    "    print(\"Max leaf nodes: %d  \\t\\t Mean Absolute Error:  %d\" %(max_leaf_nodes, my_mae))\n",
    "#500 is the best for MAE\n"
   ]
  },
  {
   "cell_type": "code",
   "execution_count": 8,
   "id": "4be30f56",
   "metadata": {
    "execution": {
     "iopub.execute_input": "2024-08-11T09:14:58.737489Z",
     "iopub.status.busy": "2024-08-11T09:14:58.737123Z",
     "iopub.status.idle": "2024-08-11T09:14:58.764084Z",
     "shell.execute_reply": "2024-08-11T09:14:58.762688Z"
    },
    "papermill": {
     "duration": 0.034984,
     "end_time": "2024-08-11T09:14:58.766876",
     "exception": false,
     "start_time": "2024-08-11T09:14:58.731892",
     "status": "completed"
    },
    "tags": []
   },
   "outputs": [
    {
     "name": "stdout",
     "output_type": "stream",
     "text": [
      "260235.05178963946\n"
     ]
    }
   ],
   "source": [
    "melbourne_model = DecisionTreeRegressor(max_leaf_nodes=500,random_state=1)\n",
    "melbourne_model.fit(train_X, train_y)\n",
    "val_predictions = melbourne_model.predict(val_X)\n",
    "print(mean_absolute_error(val_y, val_predictions))"
   ]
  },
  {
   "cell_type": "code",
   "execution_count": 9,
   "id": "0a4561db",
   "metadata": {
    "execution": {
     "iopub.execute_input": "2024-08-11T09:14:58.776977Z",
     "iopub.status.busy": "2024-08-11T09:14:58.776543Z",
     "iopub.status.idle": "2024-08-11T09:15:00.141494Z",
     "shell.execute_reply": "2024-08-11T09:15:00.140270Z"
    },
    "papermill": {
     "duration": 1.372822,
     "end_time": "2024-08-11T09:15:00.143955",
     "exception": false,
     "start_time": "2024-08-11T09:14:58.771133",
     "status": "completed"
    },
    "tags": []
   },
   "outputs": [
    {
     "name": "stdout",
     "output_type": "stream",
     "text": [
      "208267.62562941297\n"
     ]
    }
   ],
   "source": [
    "#random forest\n",
    "from sklearn.ensemble import RandomForestRegressor\n",
    "from sklearn.metrics import mean_absolute_error\n",
    "\n",
    "forest_model = RandomForestRegressor(max_leaf_nodes=500,random_state=1)\n",
    "forest_model.fit(train_X, train_y)\n",
    "melb_preds = forest_model.predict(val_X)\n",
    "print(mean_absolute_error(val_y, melb_preds))"
   ]
  },
  {
   "cell_type": "code",
   "execution_count": 10,
   "id": "c89633d3",
   "metadata": {
    "execution": {
     "iopub.execute_input": "2024-08-11T09:15:00.154767Z",
     "iopub.status.busy": "2024-08-11T09:15:00.153746Z",
     "iopub.status.idle": "2024-08-11T09:15:00.159041Z",
     "shell.execute_reply": "2024-08-11T09:15:00.157899Z"
    },
    "papermill": {
     "duration": 0.013153,
     "end_time": "2024-08-11T09:15:00.161362",
     "exception": false,
     "start_time": "2024-08-11T09:15:00.148209",
     "status": "completed"
    },
    "tags": []
   },
   "outputs": [],
   "source": [
    "#for competition \n"
   ]
  }
 ],
 "metadata": {
  "kaggle": {
   "accelerator": "none",
   "dataSources": [
    {
     "datasetId": 2709,
     "sourceId": 38454,
     "sourceType": "datasetVersion"
    }
   ],
   "dockerImageVersionId": 30746,
   "isGpuEnabled": false,
   "isInternetEnabled": true,
   "language": "python",
   "sourceType": "notebook"
  },
  "kernelspec": {
   "display_name": "Python 3",
   "language": "python",
   "name": "python3"
  },
  "language_info": {
   "codemirror_mode": {
    "name": "ipython",
    "version": 3
   },
   "file_extension": ".py",
   "mimetype": "text/x-python",
   "name": "python",
   "nbconvert_exporter": "python",
   "pygments_lexer": "ipython3",
   "version": "3.10.13"
  },
  "papermill": {
   "default_parameters": {},
   "duration": 7.681854,
   "end_time": "2024-08-11T09:15:00.787118",
   "environment_variables": {},
   "exception": null,
   "input_path": "__notebook__.ipynb",
   "output_path": "__notebook__.ipynb",
   "parameters": {},
   "start_time": "2024-08-11T09:14:53.105264",
   "version": "2.5.0"
  }
 },
 "nbformat": 4,
 "nbformat_minor": 5
}
